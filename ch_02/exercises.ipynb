{
 "cells": [
  {
   "cell_type": "markdown",
   "source": [
    "# Chapter 2 - Coding Exercises"
   ],
   "metadata": {
    "collapsed": false,
    "pycharm": {
     "name": "#%% md\n"
    }
   }
  },
  {
   "cell_type": "markdown",
   "source": [
    "Using the data/parsed.csv file and the material from this chapter, complete the following exercises to practice your pandas skills:"
   ],
   "metadata": {
    "collapsed": false,
    "pycharm": {
     "name": "#%% md\n"
    }
   }
  },
  {
   "cell_type": "code",
   "execution_count": 1,
   "outputs": [],
   "source": [
    "import pandas as pd\n",
    "\n",
    "df = pd.read_csv('data\\parsed.csv')"
   ],
   "metadata": {
    "collapsed": false,
    "pycharm": {
     "name": "#%%\n"
    }
   }
  },
  {
   "cell_type": "code",
   "execution_count": 2,
   "outputs": [
    {
     "data": {
      "text/plain": "  alert  cdi      code                                             detail  \\\n0   NaN  NaN  37389218  https://earthquake.usgs.gov/fdsnws/event/1/que...   \n1   NaN  NaN  37389202  https://earthquake.usgs.gov/fdsnws/event/1/que...   \n2   NaN  4.4  37389194  https://earthquake.usgs.gov/fdsnws/event/1/que...   \n3   NaN  NaN  37389186  https://earthquake.usgs.gov/fdsnws/event/1/que...   \n4   NaN  NaN  73096941  https://earthquake.usgs.gov/fdsnws/event/1/que...   \n\n       dmin  felt    gap           ids   mag magType  ...     status  \\\n0  0.008693   NaN   85.0  ,ci37389218,  1.35      ml  ...  automatic   \n1  0.020030   NaN   79.0  ,ci37389202,  1.29      ml  ...  automatic   \n2  0.021370  28.0   21.0  ,ci37389194,  3.42      ml  ...  automatic   \n3  0.026180   NaN   39.0  ,ci37389186,  0.44      ml  ...  automatic   \n4  0.077990   NaN  192.0  ,nc73096941,  2.16      md  ...  automatic   \n\n            time                          title tsunami        type  \\\n0  1539475168010  M 1.4 - 9km NE of Aguanga, CA       0  earthquake   \n1  1539475129610  M 1.3 - 9km NE of Aguanga, CA       0  earthquake   \n2  1539475062610  M 3.4 - 8km NE of Aguanga, CA       0  earthquake   \n3  1539474978070  M 0.4 - 9km NE of Aguanga, CA       0  earthquake   \n4  1539474716050  M 2.2 - 10km NW of Avenal, CA       0  earthquake   \n\n                                               types     tz        updated  \\\n0         ,geoserve,nearby-cities,origin,phase-data, -480.0  1539475395144   \n1         ,geoserve,nearby-cities,origin,phase-data, -480.0  1539475253925   \n2  ,dyfi,focal-mechanism,geoserve,nearby-cities,o... -480.0  1539536756176   \n3         ,geoserve,nearby-cities,origin,phase-data, -480.0  1539475196167   \n4  ,geoserve,nearby-cities,origin,phase-data,scit... -480.0  1539477547926   \n\n                                                 url parsed_place  \n0  https://earthquake.usgs.gov/earthquakes/eventp...   California  \n1  https://earthquake.usgs.gov/earthquakes/eventp...   California  \n2  https://earthquake.usgs.gov/earthquakes/eventp...   California  \n3  https://earthquake.usgs.gov/earthquakes/eventp...   California  \n4  https://earthquake.usgs.gov/earthquakes/eventp...   California  \n\n[5 rows x 27 columns]",
      "text/html": "<div>\n<style scoped>\n    .dataframe tbody tr th:only-of-type {\n        vertical-align: middle;\n    }\n\n    .dataframe tbody tr th {\n        vertical-align: top;\n    }\n\n    .dataframe thead th {\n        text-align: right;\n    }\n</style>\n<table border=\"1\" class=\"dataframe\">\n  <thead>\n    <tr style=\"text-align: right;\">\n      <th></th>\n      <th>alert</th>\n      <th>cdi</th>\n      <th>code</th>\n      <th>detail</th>\n      <th>dmin</th>\n      <th>felt</th>\n      <th>gap</th>\n      <th>ids</th>\n      <th>mag</th>\n      <th>magType</th>\n      <th>...</th>\n      <th>status</th>\n      <th>time</th>\n      <th>title</th>\n      <th>tsunami</th>\n      <th>type</th>\n      <th>types</th>\n      <th>tz</th>\n      <th>updated</th>\n      <th>url</th>\n      <th>parsed_place</th>\n    </tr>\n  </thead>\n  <tbody>\n    <tr>\n      <th>0</th>\n      <td>NaN</td>\n      <td>NaN</td>\n      <td>37389218</td>\n      <td>https://earthquake.usgs.gov/fdsnws/event/1/que...</td>\n      <td>0.008693</td>\n      <td>NaN</td>\n      <td>85.0</td>\n      <td>,ci37389218,</td>\n      <td>1.35</td>\n      <td>ml</td>\n      <td>...</td>\n      <td>automatic</td>\n      <td>1539475168010</td>\n      <td>M 1.4 - 9km NE of Aguanga, CA</td>\n      <td>0</td>\n      <td>earthquake</td>\n      <td>,geoserve,nearby-cities,origin,phase-data,</td>\n      <td>-480.0</td>\n      <td>1539475395144</td>\n      <td>https://earthquake.usgs.gov/earthquakes/eventp...</td>\n      <td>California</td>\n    </tr>\n    <tr>\n      <th>1</th>\n      <td>NaN</td>\n      <td>NaN</td>\n      <td>37389202</td>\n      <td>https://earthquake.usgs.gov/fdsnws/event/1/que...</td>\n      <td>0.020030</td>\n      <td>NaN</td>\n      <td>79.0</td>\n      <td>,ci37389202,</td>\n      <td>1.29</td>\n      <td>ml</td>\n      <td>...</td>\n      <td>automatic</td>\n      <td>1539475129610</td>\n      <td>M 1.3 - 9km NE of Aguanga, CA</td>\n      <td>0</td>\n      <td>earthquake</td>\n      <td>,geoserve,nearby-cities,origin,phase-data,</td>\n      <td>-480.0</td>\n      <td>1539475253925</td>\n      <td>https://earthquake.usgs.gov/earthquakes/eventp...</td>\n      <td>California</td>\n    </tr>\n    <tr>\n      <th>2</th>\n      <td>NaN</td>\n      <td>4.4</td>\n      <td>37389194</td>\n      <td>https://earthquake.usgs.gov/fdsnws/event/1/que...</td>\n      <td>0.021370</td>\n      <td>28.0</td>\n      <td>21.0</td>\n      <td>,ci37389194,</td>\n      <td>3.42</td>\n      <td>ml</td>\n      <td>...</td>\n      <td>automatic</td>\n      <td>1539475062610</td>\n      <td>M 3.4 - 8km NE of Aguanga, CA</td>\n      <td>0</td>\n      <td>earthquake</td>\n      <td>,dyfi,focal-mechanism,geoserve,nearby-cities,o...</td>\n      <td>-480.0</td>\n      <td>1539536756176</td>\n      <td>https://earthquake.usgs.gov/earthquakes/eventp...</td>\n      <td>California</td>\n    </tr>\n    <tr>\n      <th>3</th>\n      <td>NaN</td>\n      <td>NaN</td>\n      <td>37389186</td>\n      <td>https://earthquake.usgs.gov/fdsnws/event/1/que...</td>\n      <td>0.026180</td>\n      <td>NaN</td>\n      <td>39.0</td>\n      <td>,ci37389186,</td>\n      <td>0.44</td>\n      <td>ml</td>\n      <td>...</td>\n      <td>automatic</td>\n      <td>1539474978070</td>\n      <td>M 0.4 - 9km NE of Aguanga, CA</td>\n      <td>0</td>\n      <td>earthquake</td>\n      <td>,geoserve,nearby-cities,origin,phase-data,</td>\n      <td>-480.0</td>\n      <td>1539475196167</td>\n      <td>https://earthquake.usgs.gov/earthquakes/eventp...</td>\n      <td>California</td>\n    </tr>\n    <tr>\n      <th>4</th>\n      <td>NaN</td>\n      <td>NaN</td>\n      <td>73096941</td>\n      <td>https://earthquake.usgs.gov/fdsnws/event/1/que...</td>\n      <td>0.077990</td>\n      <td>NaN</td>\n      <td>192.0</td>\n      <td>,nc73096941,</td>\n      <td>2.16</td>\n      <td>md</td>\n      <td>...</td>\n      <td>automatic</td>\n      <td>1539474716050</td>\n      <td>M 2.2 - 10km NW of Avenal, CA</td>\n      <td>0</td>\n      <td>earthquake</td>\n      <td>,geoserve,nearby-cities,origin,phase-data,scit...</td>\n      <td>-480.0</td>\n      <td>1539477547926</td>\n      <td>https://earthquake.usgs.gov/earthquakes/eventp...</td>\n      <td>California</td>\n    </tr>\n  </tbody>\n</table>\n<p>5 rows × 27 columns</p>\n</div>"
     },
     "execution_count": 2,
     "metadata": {},
     "output_type": "execute_result"
    }
   ],
   "source": [
    "df.head()"
   ],
   "metadata": {
    "collapsed": false,
    "pycharm": {
     "name": "#%%\n"
    }
   }
  },
  {
   "cell_type": "markdown",
   "source": [
    "1. Find the 95th percentile of earthquake magnitude in Japan using the **mb** magnitude type."
   ],
   "metadata": {
    "collapsed": false,
    "pycharm": {
     "name": "#%% md\n"
    }
   }
  },
  {
   "cell_type": "code",
   "execution_count": 3,
   "outputs": [
    {
     "data": {
      "text/plain": "4.9"
     },
     "execution_count": 3,
     "metadata": {},
     "output_type": "execute_result"
    }
   ],
   "source": [
    "df[ (df.parsed_place == 'Japan') & (df.magType == 'mb') ].mag.quantile(0.95)"
   ],
   "metadata": {
    "collapsed": false,
    "pycharm": {
     "name": "#%%\n"
    }
   }
  },
  {
   "cell_type": "markdown",
   "source": [
    "2. Find the percentage of earthquakes in Indonesia that were coupled with tsunamis."
   ],
   "metadata": {
    "collapsed": false,
    "pycharm": {
     "name": "#%% md\n"
    }
   }
  },
  {
   "cell_type": "code",
   "execution_count": 4,
   "outputs": [
    {
     "data": {
      "text/plain": "'23.13%'"
     },
     "execution_count": 4,
     "metadata": {},
     "output_type": "execute_result"
    }
   ],
   "source": [
    "f\"{df[ (df.parsed_place == 'Indonesia') ].tsunami.value_counts(normalize=True).iloc[1,]:.2%}\""
   ],
   "metadata": {
    "collapsed": false,
    "pycharm": {
     "name": "#%%\n"
    }
   }
  },
  {
   "cell_type": "markdown",
   "source": [
    "3. Calculate summary statistics for earthquakes in Nevada."
   ],
   "metadata": {
    "collapsed": false,
    "pycharm": {
     "name": "#%% md\n"
    }
   }
  },
  {
   "cell_type": "code",
   "execution_count": 5,
   "outputs": [
    {
     "data": {
      "text/plain": "             cdi        dmin       felt         gap         mag   mmi  \\\ncount  15.000000  681.000000  15.000000  681.000000  681.000000  1.00   \nmean    2.440000    0.166199   2.400000  153.668120    0.500073  2.84   \nstd     0.501142    0.166228   4.626013   68.735302    0.696710   NaN   \nmin     2.000000    0.001000   1.000000   29.140000   -0.500000  2.84   \n25%     2.000000    0.053000   1.000000   97.380000   -0.100000  2.84   \n50%     2.200000    0.112000   1.000000  149.140000    0.400000  2.84   \n75%     2.900000    0.233000   1.000000  199.720000    0.900000  2.84   \nmax     3.300000    1.414000  19.000000  355.910000    2.900000  2.84   \n\n              nst         rms         sig          time  tsunami     tz  \\\ncount  681.000000  681.000000  681.000000  6.810000e+02    681.0  681.0   \nmean    12.618209    0.151986   10.970631  1.538314e+12      0.0 -480.0   \nstd      9.866963    0.084662   19.607150  5.965637e+08      0.0    0.0   \nmin      3.000000    0.000500    0.000000  1.537247e+12      0.0 -480.0   \n25%      6.000000    0.106900    0.000000  1.537854e+12      0.0 -480.0   \n50%     10.000000    0.146300    2.000000  1.538280e+12      0.0 -480.0   \n75%     16.000000    0.187100   12.000000  1.538821e+12      0.0 -480.0   \nmax     61.000000    0.863400  129.000000  1.539461e+12      0.0 -480.0   \n\n            updated  \ncount  6.810000e+02  \nmean   1.538402e+12  \nstd    6.010951e+08  \nmin    1.537307e+12  \n25%    1.537928e+12  \n50%    1.538428e+12  \n75%    1.538878e+12  \nmax    1.539483e+12  ",
      "text/html": "<div>\n<style scoped>\n    .dataframe tbody tr th:only-of-type {\n        vertical-align: middle;\n    }\n\n    .dataframe tbody tr th {\n        vertical-align: top;\n    }\n\n    .dataframe thead th {\n        text-align: right;\n    }\n</style>\n<table border=\"1\" class=\"dataframe\">\n  <thead>\n    <tr style=\"text-align: right;\">\n      <th></th>\n      <th>cdi</th>\n      <th>dmin</th>\n      <th>felt</th>\n      <th>gap</th>\n      <th>mag</th>\n      <th>mmi</th>\n      <th>nst</th>\n      <th>rms</th>\n      <th>sig</th>\n      <th>time</th>\n      <th>tsunami</th>\n      <th>tz</th>\n      <th>updated</th>\n    </tr>\n  </thead>\n  <tbody>\n    <tr>\n      <th>count</th>\n      <td>15.000000</td>\n      <td>681.000000</td>\n      <td>15.000000</td>\n      <td>681.000000</td>\n      <td>681.000000</td>\n      <td>1.00</td>\n      <td>681.000000</td>\n      <td>681.000000</td>\n      <td>681.000000</td>\n      <td>6.810000e+02</td>\n      <td>681.0</td>\n      <td>681.0</td>\n      <td>6.810000e+02</td>\n    </tr>\n    <tr>\n      <th>mean</th>\n      <td>2.440000</td>\n      <td>0.166199</td>\n      <td>2.400000</td>\n      <td>153.668120</td>\n      <td>0.500073</td>\n      <td>2.84</td>\n      <td>12.618209</td>\n      <td>0.151986</td>\n      <td>10.970631</td>\n      <td>1.538314e+12</td>\n      <td>0.0</td>\n      <td>-480.0</td>\n      <td>1.538402e+12</td>\n    </tr>\n    <tr>\n      <th>std</th>\n      <td>0.501142</td>\n      <td>0.166228</td>\n      <td>4.626013</td>\n      <td>68.735302</td>\n      <td>0.696710</td>\n      <td>NaN</td>\n      <td>9.866963</td>\n      <td>0.084662</td>\n      <td>19.607150</td>\n      <td>5.965637e+08</td>\n      <td>0.0</td>\n      <td>0.0</td>\n      <td>6.010951e+08</td>\n    </tr>\n    <tr>\n      <th>min</th>\n      <td>2.000000</td>\n      <td>0.001000</td>\n      <td>1.000000</td>\n      <td>29.140000</td>\n      <td>-0.500000</td>\n      <td>2.84</td>\n      <td>3.000000</td>\n      <td>0.000500</td>\n      <td>0.000000</td>\n      <td>1.537247e+12</td>\n      <td>0.0</td>\n      <td>-480.0</td>\n      <td>1.537307e+12</td>\n    </tr>\n    <tr>\n      <th>25%</th>\n      <td>2.000000</td>\n      <td>0.053000</td>\n      <td>1.000000</td>\n      <td>97.380000</td>\n      <td>-0.100000</td>\n      <td>2.84</td>\n      <td>6.000000</td>\n      <td>0.106900</td>\n      <td>0.000000</td>\n      <td>1.537854e+12</td>\n      <td>0.0</td>\n      <td>-480.0</td>\n      <td>1.537928e+12</td>\n    </tr>\n    <tr>\n      <th>50%</th>\n      <td>2.200000</td>\n      <td>0.112000</td>\n      <td>1.000000</td>\n      <td>149.140000</td>\n      <td>0.400000</td>\n      <td>2.84</td>\n      <td>10.000000</td>\n      <td>0.146300</td>\n      <td>2.000000</td>\n      <td>1.538280e+12</td>\n      <td>0.0</td>\n      <td>-480.0</td>\n      <td>1.538428e+12</td>\n    </tr>\n    <tr>\n      <th>75%</th>\n      <td>2.900000</td>\n      <td>0.233000</td>\n      <td>1.000000</td>\n      <td>199.720000</td>\n      <td>0.900000</td>\n      <td>2.84</td>\n      <td>16.000000</td>\n      <td>0.187100</td>\n      <td>12.000000</td>\n      <td>1.538821e+12</td>\n      <td>0.0</td>\n      <td>-480.0</td>\n      <td>1.538878e+12</td>\n    </tr>\n    <tr>\n      <th>max</th>\n      <td>3.300000</td>\n      <td>1.414000</td>\n      <td>19.000000</td>\n      <td>355.910000</td>\n      <td>2.900000</td>\n      <td>2.84</td>\n      <td>61.000000</td>\n      <td>0.863400</td>\n      <td>129.000000</td>\n      <td>1.539461e+12</td>\n      <td>0.0</td>\n      <td>-480.0</td>\n      <td>1.539483e+12</td>\n    </tr>\n  </tbody>\n</table>\n</div>"
     },
     "execution_count": 5,
     "metadata": {},
     "output_type": "execute_result"
    }
   ],
   "source": [
    "df[ df.parsed_place == 'Nevada'].describe()"
   ],
   "metadata": {
    "collapsed": false,
    "pycharm": {
     "name": "#%%\n"
    }
   }
  },
  {
   "cell_type": "markdown",
   "source": [
    "4. Add a column indicating whether the earthquake happened in a country or US state that is on the Ring of Fire. Use Alaska, Antarctica (look for Antarctic), Bolivia, California, Canada, Chile, Costa Rica, Ecuador, Fiji, Guatemala, Indonesia, Japan, Kermadec Islands, Mexico (be careful not to select New Mexico), New Zealand, Peru, Philippines, Russia, Taiwan, Tonga, and Washington."
   ],
   "metadata": {
    "collapsed": false,
    "pycharm": {
     "name": "#%% md\n"
    }
   }
  },
  {
   "cell_type": "code",
   "execution_count": 6,
   "outputs": [],
   "source": [
    "df['ring_of_fire'] = df.parsed_place.str.contains(r'|'.join([\n",
    "    'Alaska', 'Antarctica', 'Bolivia', 'California', 'Canada',\n",
    "    'Chile', 'Costa Rica', 'Ecuador', 'Fiji', 'Guatemala',\n",
    "    'Indonesia', 'Japan', 'Kermadec Islands', '^Mexico',\n",
    "    'New Zealand', 'Peru', 'Philippines', 'Russia',\n",
    "    'Taiwan', 'Tonga', 'Washington'\n",
    "]))"
   ],
   "metadata": {
    "collapsed": false,
    "pycharm": {
     "name": "#%%\n"
    }
   }
  },
  {
   "cell_type": "markdown",
   "source": [
    "5. Calculate the number of earthquakes in the Ring of Fire locations and the number outside of them."
   ],
   "metadata": {
    "collapsed": false,
    "pycharm": {
     "name": "#%% md\n"
    }
   }
  },
  {
   "cell_type": "code",
   "execution_count": 7,
   "outputs": [
    {
     "data": {
      "text/plain": "True     7184\nFalse    2148\nName: ring_of_fire, dtype: int64"
     },
     "execution_count": 7,
     "metadata": {},
     "output_type": "execute_result"
    }
   ],
   "source": [
    "df.ring_of_fire.value_counts()"
   ],
   "metadata": {
    "collapsed": false,
    "pycharm": {
     "name": "#%%\n"
    }
   }
  },
  {
   "cell_type": "markdown",
   "source": [
    "6. Find the tsunami count along the Ring of Fire."
   ],
   "metadata": {
    "collapsed": false,
    "pycharm": {
     "name": "#%% md\n"
    }
   }
  },
  {
   "cell_type": "code",
   "execution_count": 8,
   "outputs": [
    {
     "data": {
      "text/plain": "45"
     },
     "execution_count": 8,
     "metadata": {},
     "output_type": "execute_result"
    }
   ],
   "source": [
    "df.loc[ df.ring_of_fire, 'tsunami'].sum()"
   ],
   "metadata": {
    "collapsed": false,
    "pycharm": {
     "name": "#%%\n"
    }
   }
  }
 ],
 "metadata": {
  "kernelspec": {
   "display_name": "Python 3",
   "language": "python",
   "name": "python3"
  },
  "language_info": {
   "codemirror_mode": {
    "name": "ipython",
    "version": 2
   },
   "file_extension": ".py",
   "mimetype": "text/x-python",
   "name": "python",
   "nbconvert_exporter": "python",
   "pygments_lexer": "ipython2",
   "version": "2.7.6"
  }
 },
 "nbformat": 4,
 "nbformat_minor": 0
}